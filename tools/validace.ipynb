{
 "cells": [
  {
   "cell_type": "code",
   "execution_count": 1,
   "metadata": {},
   "outputs": [],
   "source": [
    "import pandas as pd\n",
    "from sklearn import linear_model\n",
    "import numpy as np\n",
    "np.set_printoptions(suppress=True)\n",
    "from sklearn import preprocessing\n",
    "import operator\n",
    "import json"
   ]
  },
  {
   "cell_type": "code",
   "execution_count": 2,
   "metadata": {},
   "outputs": [],
   "source": [
    "data = pd.read_excel('../scratch/obce_vystup_v02_omezene.xlsx')"
   ]
  },
  {
   "cell_type": "code",
   "execution_count": 3,
   "metadata": {},
   "outputs": [],
   "source": [
    "koef = pd.read_excel('../scratch/koeficientyPorovnani_v03omez.xlsx', skip_footer=2).set_index('Faktor')"
   ]
  },
  {
   "cell_type": "code",
   "execution_count": 4,
   "metadata": {},
   "outputs": [],
   "source": [
    "koef['Průměr'] = round(koef['Průměr'] / 100, 5)"
   ]
  },
  {
   "cell_type": "code",
   "execution_count": 5,
   "metadata": {},
   "outputs": [],
   "source": [
    "nms = {\n",
    "    'Nezaměstnanost': 'nezam',\n",
    "    'Emise': 'emise',\n",
    "    'Naděje dožití mužů': 'doziti_m',\n",
    "    'Index rozvodovosti': 'rozvody',\n",
    "    'Nedostuopnost MŠ': 'ned_ms',\n",
    "    'Nedostupnost SŠ': 'ned_ss',\n",
    "    'Nedostupnost zdrav. zař.': 'ned_zdrav',\n",
    "    'Exekucí na obyv.': 'exe',\n",
    "    'Podíl prac. v průmyslu': 'prumysl',\n",
    "    'Bezpečnost': 'bezpecnost',\n",
    "    'Přírůstek obyvatel': 'prirust',\n",
    "    'Procento věřících': 'verici',\n",
    "    'Nedostupnost internetu': 'ned_net',\n",
    "    'Vzdálenost k okresnímu městu': 'vz_okr',\n",
    "}"
   ]
  },
  {
   "cell_type": "code",
   "execution_count": 6,
   "metadata": {},
   "outputs": [],
   "source": [
    "koef = koef[['Průměr']].to_dict()['Průměr']"
   ]
  },
  {
   "cell_type": "code",
   "execution_count": null,
   "metadata": {},
   "outputs": [],
   "source": [
    "kout = {}\n",
    "for  k in koef:\n",
    "    if k in nms:\n",
    "        kout[nms[k]] = koef[k]"
   ]
  },
  {
   "cell_type": "code",
   "execution_count": null,
   "metadata": {},
   "outputs": [],
   "source": [
    "kout"
   ]
  },
  {
   "cell_type": "code",
   "execution_count": 7,
   "metadata": {},
   "outputs": [
    {
     "name": "stderr",
     "output_type": "stream",
     "text": [
      "c:\\program files\\python36\\lib\\site-packages\\sklearn\\utils\\validation.py:475: DataConversionWarning: Data with input dtype int64 was converted to float64 by the scale function.\n",
      "  warnings.warn(msg, DataConversionWarning)\n"
     ]
    }
   ],
   "source": [
    "# standardizace a zaokrouhleni\n",
    "for n in nms.keys():\n",
    "    data[n] = pd.Series(preprocessing.scale(data[n].values))\n",
    "    data[n] = data[n].apply(lambda x: round(x, 5))"
   ]
  },
  {
   "cell_type": "code",
   "execution_count": 8,
   "metadata": {},
   "outputs": [],
   "source": [
    "# bude se aplikovat az na klientovi\n",
    "for k in koef:\n",
    "    if k in data.columns:\n",
    "        data[k] = data[k].apply(lambda x: x * koef[k])"
   ]
  },
  {
   "cell_type": "code",
   "execution_count": 9,
   "metadata": {},
   "outputs": [],
   "source": [
    "nms.update({\n",
    "    'Název obce': 'nazev',\n",
    "    'Název okresu': 'okres'})\n",
    "data.rename(index=str, columns=nms, inplace=True)"
   ]
  },
  {
   "cell_type": "code",
   "execution_count": 10,
   "metadata": {},
   "outputs": [],
   "source": [
    "data.set_index('NUTS5 (Obec)', inplace=True)"
   ]
  },
  {
   "cell_type": "code",
   "execution_count": null,
   "metadata": {},
   "outputs": [],
   "source": [
    "with open('../scratch/data.js', 'w', encoding='utf-8') as f:\n",
    "    f.write('var data = ' + json.dumps(data[list(nms.values())].to_dict(orient='index')) + ';')"
   ]
  },
  {
   "cell_type": "code",
   "execution_count": 11,
   "metadata": {},
   "outputs": [],
   "source": [
    "sel = list(nms.values())\n",
    "sel.remove('nazev')\n",
    "sel.remove('okres')"
   ]
  },
  {
   "cell_type": "code",
   "execution_count": 12,
   "metadata": {},
   "outputs": [],
   "source": [
    "data['kvalita'] = 1 - (data[sel].sum(axis=1) + 0.50519)"
   ]
  },
  {
   "cell_type": "code",
   "execution_count": 13,
   "metadata": {},
   "outputs": [],
   "source": [
    "# naskalovani vysledku na 0 - 100\n",
    "mini = data.kvalita.min()\n",
    "maxi = data.kvalita.max()\n",
    "\n",
    "def norm(v):\n",
    "    return ((v - mini) / (maxi - mini)) * 100\n",
    "\n",
    "data.kvalita = data.kvalita.apply(lambda x: norm(x))"
   ]
  }
 ],
 "metadata": {
  "kernelspec": {
   "display_name": "Python 3",
   "language": "python",
   "name": "python3"
  },
  "language_info": {
   "codemirror_mode": {
    "name": "ipython",
    "version": 3
   },
   "file_extension": ".py",
   "mimetype": "text/x-python",
   "name": "python",
   "nbconvert_exporter": "python",
   "pygments_lexer": "ipython3",
   "version": "3.6.5"
  }
 },
 "nbformat": 4,
 "nbformat_minor": 2
}
