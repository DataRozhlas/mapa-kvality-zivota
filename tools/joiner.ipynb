{
 "cells": [
  {
   "cell_type": "code",
   "execution_count": 102,
   "metadata": {},
   "outputs": [],
   "source": [
    "import pandas as pd\n",
    "from sklearn import linear_model\n",
    "import numpy as np\n",
    "np.set_printoptions(suppress=True)\n",
    "import operator\n"
   ]
  },
  {
   "cell_type": "code",
   "execution_count": 103,
   "metadata": {},
   "outputs": [],
   "source": [
    "data = pd.read_excel('../scratch/obce_vystup_v02_omezene.xlsx')"
   ]
  },
  {
   "cell_type": "code",
   "execution_count": 104,
   "metadata": {},
   "outputs": [],
   "source": [
    "data.set_index('NUTS5 (Obec)', inplace=True)"
   ]
  },
  {
   "cell_type": "code",
   "execution_count": 105,
   "metadata": {},
   "outputs": [],
   "source": [
    "nms = {\n",
    "    'Nezaměstnanost': 'nezam',\n",
    "    'Emise': 'emise',\n",
    "    'Naděje dožití mužů': 'doziti_m',\n",
    "    'Index rozvodovosti': 'rozvody',\n",
    "    'Nedostuopnost MŠ': 'ned_ms',\n",
    "    'Nedostupnost SŠ': 'ned_ss',\n",
    "    'Nedostupnost zdrav. zař.': 'ned_zdrav',\n",
    "    'Exekucí na obyv.': 'exe',\n",
    "    'Podíl prac. v průmyslu': 'prumysl',\n",
    "    'Bezpečnost': 'bezpecnost',\n",
    "    'Přírůstek obyvatel': 'prirust',\n",
    "    'Procento věřících': 'verici',\n",
    "    'Nedostupnost internetu': 'ned_net',\n",
    "    'Vzdálenost k okresnímu městu': 'vz_okr',\n",
    "    'Název obce': 'nazev',\n",
    "    'Název okresu': 'okres'\n",
    "}\n",
    "data.rename(index=str, columns=nms, inplace=True)"
   ]
  },
  {
   "cell_type": "code",
   "execution_count": null,
   "metadata": {},
   "outputs": [],
   "source": [
    "X = pd.DataFrame(data, columns=list(nms_exp.values()))\n",
    "lm = linear_model.LinearRegression()\n",
    "model = lm.fit(X, y)\n",
    "lm.score(X,y)"
   ]
  },
  {
   "cell_type": "code",
   "execution_count": null,
   "metadata": {},
   "outputs": [],
   "source": [
    "koef = dict(zip(X.columns, lm.coef_))"
   ]
  },
  {
   "cell_type": "code",
   "execution_count": 96,
   "metadata": {},
   "outputs": [],
   "source": [
    "# normalizace koeficientu\n",
    "\n",
    "def norm(mini, maxi, val):\n",
    "    return round((val - mini)/ (maxi - mini), 5)\n",
    "\n",
    "for k in nms.values():\n",
    "    if (k == 'nazev') | (k == 'okres'):\n",
    "        continue\n",
    "    mi = data[k].min()\n",
    "    ma = data[k].max()\n",
    "    data[k] = data[k].apply(lambda x: norm(mi, ma, x))"
   ]
  },
  {
   "cell_type": "code",
   "execution_count": 106,
   "metadata": {},
   "outputs": [
    {
     "data": {
      "text/plain": [
       "45572.733479310533"
      ]
     },
     "execution_count": 106,
     "metadata": {},
     "output_type": "execute_result"
    }
   ],
   "source": [
    "data[list(nms.values())].sum(axis=1).max()"
   ]
  },
  {
   "cell_type": "code",
   "execution_count": 107,
   "metadata": {},
   "outputs": [],
   "source": [
    "data = data[list(nms.values())].to_dict(orient='index')"
   ]
  },
  {
   "cell_type": "code",
   "execution_count": 108,
   "metadata": {},
   "outputs": [],
   "source": [
    "with open('../scratch/data.js', 'w', encoding='utf-8') as f:\n",
    "    f.write(jsmin('var data = ' + json.dumps(data) + ';'))"
   ]
  }
 ],
 "metadata": {
  "kernelspec": {
   "display_name": "Python 3",
   "language": "python",
   "name": "python3"
  },
  "language_info": {
   "codemirror_mode": {
    "name": "ipython",
    "version": 3
   },
   "file_extension": ".py",
   "mimetype": "text/x-python",
   "name": "python",
   "nbconvert_exporter": "python",
   "pygments_lexer": "ipython3",
   "version": "3.6.5"
  }
 },
 "nbformat": 4,
 "nbformat_minor": 2
}
